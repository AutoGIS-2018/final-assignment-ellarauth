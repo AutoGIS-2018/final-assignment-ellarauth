{
 "cells": [
  {
   "cell_type": "markdown",
   "metadata": {},
   "source": [
    "# Final Assignment - AccessViz - AutoGIS 2018 \n",
    "##### Name: Ella Rauth \n",
    "##### Student ID: 014964527"
   ]
  },
  {
   "cell_type": "markdown",
   "metadata": {},
   "source": [
    "## Importing Packages and Data"
   ]
  },
  {
   "cell_type": "code",
   "execution_count": 1,
   "metadata": {},
   "outputs": [],
   "source": [
    "import pandas as pd\n",
    "import geopandas as gpd\n",
    "import numpy as np\n",
    "import matplotlib.pyplot as plt\n",
    "import os.path"
   ]
  },
  {
   "cell_type": "code",
   "execution_count": 61,
   "metadata": {},
   "outputs": [],
   "source": [
    "# reading the grid file\n",
    "grid = gpd.read_file('data/MetropAccess_YKR_grid/MetropAccess_YKR_grid_EurefFIN.shp')\n",
    "\n",
    "# saving the YKR_IDs in grid as a list\n",
    "ykr_ids = list(grid.YKR_ID)"
   ]
  },
  {
   "cell_type": "code",
   "execution_count": 110,
   "metadata": {},
   "outputs": [],
   "source": [
    "# global variables for storing the output of the user defined input\n",
    "# by default data is appended to the lists, but can also be cleared manually with clear_ids()\n",
    "\n",
    "valid_ids = [] # list of valid YKR-IDs specified by the user\n",
    "ttmats = [] # list of travel time matrices corresponding to the valid ids\n",
    "joined_ttmats = [] # list of travel time matrices that have been joined with the grid\n",
    "\n",
    "# function for clearing the valid_ids, ttmats, and joined_ttmats lists\n",
    "def clear_ids():\n",
    "    valid_ids.clear()\n",
    "    ttmats.clear()\n",
    "    joined_ttmats.clear()"
   ]
  },
  {
   "cell_type": "code",
   "execution_count": 111,
   "metadata": {},
   "outputs": [],
   "source": [
    "# function for reading the travel time matrix of a specified year and YKR_ID\n",
    "def read_ttmat(year, ykr_id):\n",
    "    # reading the travel time matrix\n",
    "    ttmat = pd.read_csv('data/HelsinkiRegion_TravelTimeMatrix'+str(year)+'/travel_times_to_ '+str(ykr_id)+'.txt',\n",
    "                        sep=';')\n",
    "    \n",
    "    # converting the ttmat dataframe to a geodataframe\n",
    "    ttmat = gpd.GeoDataFrame(ttmat)\n",
    "    \n",
    "    # setting the crs to that of the grid geodataframe\n",
    "    ttmat.crs = grid.crs\n",
    "    \n",
    "    return ttmat"
   ]
  },
  {
   "cell_type": "markdown",
   "metadata": {},
   "source": [
    "## NoData Values\n",
    "Notice that there are NoData values present in the data (value -1). In such cases the result cell should always end up having a value -1 when doing travel mode comparisons. In the visualizations, the NoData values should be removed before visualizing the map."
   ]
  },
  {
   "cell_type": "markdown",
   "metadata": {},
   "source": [
    "## Functionality 1\n",
    "AccessViz finds from the data folder all the matrices that user has specified by assigning a list of integer values that should correspond to YKR-IDs found from the attribute table of a Shapefile called MetropAccess_YKR_grid.shp. If the ID-number that the user has specified does not exist in the data folders, the tools should warn about this to the user but still continue running. The tool should also inform the user about the execution process: tell the user what file is currently under process and how many files there are left (e.g. “Processing file travel_times_to_5797076.txt.. Progress: 3/25”)."
   ]
  },
  {
   "cell_type": "code",
   "execution_count": 112,
   "metadata": {},
   "outputs": [],
   "source": [
    "# function for loading the travel time matrices for a set of YKR_IDs that were specified by the user\n",
    "def load_ttmats(year, input_ids):    \n",
    "    # intitializing a counter for processed ids\n",
    "    done = 0\n",
    "    \n",
    "    # matching the input_ids with the ykr_ids and loading the corresponding travel time matrices\n",
    "    for i in input_ids:\n",
    "        # incrementing the counter of processed ids\n",
    "        done += 1\n",
    "        \n",
    "        if i in ykr_ids: # the current id is a valid YKR-ID\n",
    "            if i not in valid_ids: # the current id has not yet been processed\n",
    "                # adding the current id to the list of valid ids\n",
    "                valid_ids.append(i)\n",
    "\n",
    "                # loading the file corresponding to the id and adding it to the ttmats list\n",
    "                ttmats.append(read_ttmat(year, i))\n",
    "            \n",
    "            # informing the user about the progress\n",
    "            print('STATUS:\\t Loaded file travel_times_to_'+str(i)+'.txt from year', year,\n",
    "                  'Progress:', str(done)+'/'+str(len(input_ids))+' IDs processed')\n",
    "            \n",
    "        else: # the current id is not a valid YKR-ID\n",
    "            # informing the user about the progress\n",
    "            print('WARNING:', i, 'is not a valid YKR-ID', \n",
    "                  '\\t\\t\\t\\tProgress:', str(done)+'/'+str(len(input_ids))+' IDs processed')           "
   ]
  },
  {
   "cell_type": "code",
   "execution_count": 114,
   "metadata": {},
   "outputs": [
    {
     "name": "stdout",
     "output_type": "stream",
     "text": [
      "STATUS:\t Loaded file travel_times_to_5785642.txt from year 2014 Progress: 1/4 IDs processed\n",
      "WARNING: 5785644 is not a valid YKR-ID \t\t\t\tProgress: 2/4 IDs processed\n",
      "STATUS:\t Loaded file travel_times_to_5793269.txt from year 2014 Progress: 3/4 IDs processed\n",
      "STATUS:\t Loaded file travel_times_to_5810402.txt from year 2014 Progress: 4/4 IDs processed\n"
     ]
    }
   ],
   "source": [
    "# user defined list of YKR_IDs\n",
    "input_ids = [5785642, 5785644, 5793269, 5810402]\n",
    "\n",
    "# user defined year to get data from\n",
    "year = 2014\n",
    "\n",
    "# loading the travel time matrices for the above specified input\n",
    "load_ttmats(year, input_ids)\n",
    "\n",
    "# loading data from another year\n",
    "# input_ids = [5785642, 5785644, 5793269, 5810402]\n",
    "# year = 2015\n",
    "# load_ttmats(year, input_ids, clear_lists=False)"
   ]
  },
  {
   "cell_type": "markdown",
   "metadata": {},
   "source": [
    "## Functionality 2"
   ]
  },
  {
   "cell_type": "markdown",
   "metadata": {},
   "source": [
    "AccessViz can create Shapefiles from the chosen Matrix text tables (e.g. travel_times_to_5797076.txt) by joining the Matrix file with MetropAccess_YKR_grid Shapefile where from_id in Matrix file corresponds to YKR_ID in the Shapefile. The tool saves the result in the output-folder that user has defined. You should name the files in a way that it is possible to identify the ID from the name (e.g. 5797076)."
   ]
  },
  {
   "cell_type": "code",
   "execution_count": 119,
   "metadata": {},
   "outputs": [],
   "source": [
    "# function for processing the travel time matrices for the valid ids\n",
    "def join_ttmats(output_folder):\n",
    "    for i in range(len(valid_ids)):\n",
    "        # checking if the join result has already been calculated\n",
    "        if len(valid_ids) != len(joined_ttmats):\n",
    "            # joining the current travel time matrix with the grid file on from_id and YKR_ID\n",
    "            joined_ttmats.append(ttmats[i].merge(grid, left_on='from_id', right_on='YKR_ID'))\n",
    "\n",
    "        # creating the file name\n",
    "        output_file_name = output_folder + '/travel_times_to_' + str(valid_ids[i]) + '.shp'\n",
    "        \n",
    "        # checking if the file has already been saved\n",
    "        if not os.path.isfile(output_file_name):\n",
    "            # saving the file\n",
    "            joined_ttmats[i].to_file(output_file_name)"
   ]
  },
  {
   "cell_type": "code",
   "execution_count": 120,
   "metadata": {},
   "outputs": [],
   "source": [
    "# specifying the output folder\n",
    "output_folder = 'output'\n",
    "\n",
    "# joining the previously loaded travel time matrices with the grid file\n",
    "join_ttmats(output_folder)"
   ]
  },
  {
   "cell_type": "markdown",
   "metadata": {},
   "source": [
    "## Functionality 3"
   ]
  },
  {
   "cell_type": "markdown",
   "metadata": {},
   "source": [
    "AccessViz can visualize the travel times of selected YKR_IDs based on the travel mode that the user specifies. It can save those maps into a folder that user specifies. The output maps can be either static or interactive and user can choose which one with a parameter. You can freely design yourself the style of the map, colors, travel time intervals (classes) etc. Try to make the map as informative as possible!"
   ]
  },
  {
   "cell_type": "code",
   "execution_count": 124,
   "metadata": {},
   "outputs": [],
   "source": [
    "# function for visualizing travel times of the selected travel time matrices, \n",
    "# given a travel mode (walk, pt or car), a map type (static or interactive), and an output folder name\n",
    "def visualize_ttmats(travel_mode, map_type, output_folder):\n",
    "    # create maps\n",
    "    return"
   ]
  },
  {
   "cell_type": "code",
   "execution_count": 125,
   "metadata": {},
   "outputs": [],
   "source": [
    "# selecting a travel mode from: 'walk', 'pt', and 'car'\n",
    "travel_mode = 'car' \n",
    "\n",
    "# selecting a map type from: 'static', 'interactive'\n",
    "map_type = 'static'"
   ]
  },
  {
   "cell_type": "markdown",
   "metadata": {},
   "source": [
    "## Functionality 4"
   ]
  },
  {
   "cell_type": "markdown",
   "metadata": {},
   "source": [
    "AccessViz can also compare travel times or travel distances between two different travel modes (more than two travel modes are not allowed). Thus IF the user has specified two travel modes (passed in as a list) for the AccessViz, the tool will calculate the time/distance difference of those travel modes into a new data column that should be created in the Shapefile. The logic of the calculation is following the order of the items passed on the list where first travel mode is always subtracted by the last one: travelmode1 - travelmode2. The tool should ensure that distances are not compared to travel times and vice versa. If the user chooses to compare travel modes to each other, you should add the travel modes to the filename such as Accessibility_5797076_pt_vs_car.shp. If the user has not specified any travel modes, the tool should only create the Shapefile but not execute any calculations. It should be only possible to compare two travel modes between each other at the time. Accepted travel modes are the same ones that are found in the actual TravelTimeMatrix file (pt_r_tt, car_t, etc.). If the user specifies something else, stop the program, and give advice what are the acceptable values."
   ]
  },
  {
   "cell_type": "code",
   "execution_count": null,
   "metadata": {},
   "outputs": [],
   "source": []
  },
  {
   "cell_type": "markdown",
   "metadata": {},
   "source": [
    "## Functionality 5"
   ]
  },
  {
   "cell_type": "markdown",
   "metadata": {},
   "source": [
    "(option 1). Bundled with AccessViz there is also a separate interactive map that shows the YKR grid values in Helsinki region. The purpose of the map is to help the user to choose the YKR-IDs that s/he is interested to visualize / analyze."
   ]
  },
  {
   "cell_type": "code",
   "execution_count": null,
   "metadata": {},
   "outputs": [],
   "source": []
  },
  {
   "cell_type": "markdown",
   "metadata": {},
   "source": [
    "## Functionality 6"
   ]
  },
  {
   "cell_type": "markdown",
   "metadata": {},
   "source": [
    "(option 2). AccessViz can also visualize the travel mode comparisons that were described in step 4. You can design the style of the map yourself, but try to make it as informative as possible!"
   ]
  },
  {
   "cell_type": "code",
   "execution_count": null,
   "metadata": {},
   "outputs": [],
   "source": []
  },
  {
   "cell_type": "markdown",
   "metadata": {},
   "source": [
    "## Functionality 7"
   ]
  },
  {
   "cell_type": "markdown",
   "metadata": {},
   "source": [
    "(option 3). AccessViz can also visualize shortest path routes (walking, cycling, and/or driving) using OpenStreetMap data from Helsinki Region. The impedance value for the routes can be distance (as was shown in Lesson 7) or time (optional for the most advanced students). This functionality can also be a separate program (it is not required to bundle include this with the rest of the AccessViz tool)"
   ]
  },
  {
   "cell_type": "code",
   "execution_count": null,
   "metadata": {},
   "outputs": [],
   "source": []
  }
 ],
 "metadata": {
  "kernelspec": {
   "display_name": "Python 3",
   "language": "python",
   "name": "python3"
  },
  "language_info": {
   "codemirror_mode": {
    "name": "ipython",
    "version": 3
   },
   "file_extension": ".py",
   "mimetype": "text/x-python",
   "name": "python",
   "nbconvert_exporter": "python",
   "pygments_lexer": "ipython3",
   "version": "3.6.5"
  }
 },
 "nbformat": 4,
 "nbformat_minor": 2
}
